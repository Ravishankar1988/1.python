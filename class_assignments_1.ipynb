{
 "cells": [
  {
   "cell_type": "code",
   "execution_count": 1,
   "id": "b57642aa-c576-449e-a6fc-23fc459ce07b",
   "metadata": {},
   "outputs": [],
   "source": [
    "class SubfieldsInAI():\n",
    "    def Subfields():\n",
    "        lists = ['Machine Learning', 'Neural Networks','Vision', 'Robotics','Speech Processing', 'Natural Language Processing' ]\n",
    "        for i in lists:\n",
    "            print(i)"
   ]
  },
  {
   "cell_type": "code",
   "execution_count": 2,
   "id": "317aea12-cccc-4c9d-a22f-6d23c5c25aec",
   "metadata": {},
   "outputs": [
    {
     "name": "stdout",
     "output_type": "stream",
     "text": [
      "Machine Learning\n",
      "Neural Networks\n",
      "Vision\n",
      "Robotics\n",
      "Speech Processing\n",
      "Natural Language Processing\n"
     ]
    }
   ],
   "source": [
    "SubfieldsInAI.Subfields()"
   ]
  },
  {
   "cell_type": "code",
   "execution_count": 3,
   "id": "3c049e7f-3390-4e12-bdf7-182a4db7900c",
   "metadata": {},
   "outputs": [],
   "source": [
    "class OddEven():\n",
    "    def OddEven():\n",
    "        Num = int(input(\"Enter the number: \"))\n",
    "        if (Num%2 ==1):\n",
    "            print(Num, \" is Odd number\")\n",
    "            \n",
    "        else:\n",
    "            print(Num, \" is Even number\")"
   ]
  },
  {
   "cell_type": "code",
   "execution_count": 4,
   "id": "42c16c4b-0d22-47c9-95ee-9d568f41ac69",
   "metadata": {},
   "outputs": [
    {
     "name": "stdin",
     "output_type": "stream",
     "text": [
      "Enter the number:  52452\n"
     ]
    },
    {
     "name": "stdout",
     "output_type": "stream",
     "text": [
      "52452  is Even number\n"
     ]
    }
   ],
   "source": [
    "OddEven.OddEven()"
   ]
  },
  {
   "cell_type": "code",
   "execution_count": 5,
   "id": "c324b5c4-b65b-4d42-b47f-2ec8f32db9ab",
   "metadata": {},
   "outputs": [],
   "source": [
    "class ElegiblityForMarriage():\n",
    "    def Elegible():\n",
    "        Gender = input(\"Your Gender :\")\n",
    "        Age = int(input(\"Your Age :\"))\n",
    "        if (Gender == 'Male') and (Age >= 21):\n",
    "            print(\"ELIGIBLE\")\n",
    "        elif (Gender == 'Female') and (Age >= 18):\n",
    "            print(\"ELIGIBLE\")\n",
    "        else:\n",
    "            print(\"NOT ELIGIBLE\")"
   ]
  },
  {
   "cell_type": "code",
   "execution_count": 6,
   "id": "ff595243-2766-4232-9926-c2d700b69ee9",
   "metadata": {},
   "outputs": [
    {
     "name": "stdin",
     "output_type": "stream",
     "text": [
      "Your Gender : Male\n",
      "Your Age : 20\n"
     ]
    },
    {
     "name": "stdout",
     "output_type": "stream",
     "text": [
      "NOT ELIGIBLE\n"
     ]
    }
   ],
   "source": [
    "ElegiblityForMarriage.Elegible()"
   ]
  },
  {
   "cell_type": "code",
   "execution_count": 7,
   "id": "56b5fc4b-249e-49e5-bfe2-819c11b983c5",
   "metadata": {},
   "outputs": [],
   "source": [
    "class FindPercent():\n",
    "    def percentage():\n",
    "        Subject1 = int(input(\"Subject1= \"))\n",
    "        Subject2 = int(input(\"Subject2= \"))\n",
    "        Subject3 = int(input(\"Subject3= \"))\n",
    "        Subject4 = int(input(\"Subject4= \"))\n",
    "        Subject5 = int(input(\"Subject5= \"))\n",
    "        Total = (Subject1+Subject2+Subject3+Subject4+Subject5)\n",
    "        print(\"Total : \", Total)\n",
    "        Percentage = Total/5\n",
    "        print(\"Percentage : \", Percentage)"
   ]
  },
  {
   "cell_type": "code",
   "execution_count": 8,
   "id": "02189295-f15d-49a2-878e-ec7c97b532cf",
   "metadata": {},
   "outputs": [
    {
     "name": "stdin",
     "output_type": "stream",
     "text": [
      "Subject1=  98\n",
      "Subject2=  87\n",
      "Subject3=  95\n",
      "Subject4=  95\n",
      "Subject5=  93\n"
     ]
    },
    {
     "name": "stdout",
     "output_type": "stream",
     "text": [
      "Total :  468\n",
      "Percentage :  93.6\n"
     ]
    }
   ],
   "source": [
    "FindPercent.percentage()"
   ]
  },
  {
   "cell_type": "code",
   "execution_count": 9,
   "id": "c7ee35cb-c243-4a8e-b501-cf60e20f1a67",
   "metadata": {},
   "outputs": [],
   "source": [
    "class triangle():\n",
    "    def area():\n",
    "        Height = int(input(\"Height:\"))\n",
    "        Breadth = int(input(\"Breadth:\"))\n",
    "        print(\"Area formula: (Height*Breadth)/2\")\n",
    "        output = (Height*Breadth)/2\n",
    "        print(\"Area of Triangle:  \",output)      \n",
    "\n",
    "    def perimeter():\n",
    "        Height1 = int(input(\"Height1:\"))\n",
    "        Height2 = int(input(\"Height2:\"))\n",
    "        Breadth = int(input(\"Breadth:\"))\n",
    "        print(\"Perimeter formula: Height1+Height2+Breadth\")\n",
    "        output = Height1+Height2+Breadth\n",
    "        print(\"Perimeter of Triangle:  \",output) "
   ]
  },
  {
   "cell_type": "code",
   "execution_count": 10,
   "id": "efcbf757-b583-417b-9721-e770409a76cb",
   "metadata": {},
   "outputs": [
    {
     "name": "stdin",
     "output_type": "stream",
     "text": [
      "Height: 32\n",
      "Breadth: 34\n"
     ]
    },
    {
     "name": "stdout",
     "output_type": "stream",
     "text": [
      "Area formula: (Height*Breadth)/2\n",
      "Area of Triangle:   544.0\n"
     ]
    }
   ],
   "source": [
    "triangle.area()"
   ]
  },
  {
   "cell_type": "code",
   "execution_count": 11,
   "id": "f1a262b0-cad5-43da-a92b-c713effbcf9b",
   "metadata": {},
   "outputs": [
    {
     "name": "stdin",
     "output_type": "stream",
     "text": [
      "Height1: 2\n",
      "Height2: 4\n",
      "Breadth: 4\n"
     ]
    },
    {
     "name": "stdout",
     "output_type": "stream",
     "text": [
      "Perimeter formula: Height1+Height2+Breadth\n",
      "Perimeter of Triangle:   10\n"
     ]
    }
   ],
   "source": [
    "triangle.perimeter()"
   ]
  },
  {
   "cell_type": "code",
   "execution_count": null,
   "id": "840fafea-e898-4160-9d46-79fd564ee031",
   "metadata": {},
   "outputs": [],
   "source": []
  }
 ],
 "metadata": {
  "kernelspec": {
   "display_name": "Python 3 (ipykernel)",
   "language": "python",
   "name": "python3"
  },
  "language_info": {
   "codemirror_mode": {
    "name": "ipython",
    "version": 3
   },
   "file_extension": ".py",
   "mimetype": "text/x-python",
   "name": "python",
   "nbconvert_exporter": "python",
   "pygments_lexer": "ipython3",
   "version": "3.13.5"
  }
 },
 "nbformat": 4,
 "nbformat_minor": 5
}

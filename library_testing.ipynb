{
 "cells": [
  {
   "cell_type": "code",
   "execution_count": 14,
   "id": "67069044-af7d-468a-ac78-2b30e655f8c9",
   "metadata": {},
   "outputs": [],
   "source": [
    "from mathfun import calculator\n",
    "from multifunction import multifunction"
   ]
  },
  {
   "cell_type": "code",
   "execution_count": 11,
   "id": "6234bb09-9286-4a41-8438-b1d441264de1",
   "metadata": {},
   "outputs": [
    {
     "data": {
      "text/plain": [
       "4"
      ]
     },
     "execution_count": 11,
     "metadata": {},
     "output_type": "execute_result"
    }
   ],
   "source": [
    "calculator.addition(1,3)"
   ]
  },
  {
   "cell_type": "code",
   "execution_count": 12,
   "id": "a8f89dbb-4861-4d63-8068-e6f3838a9533",
   "metadata": {},
   "outputs": [
    {
     "data": {
      "text/plain": [
       "-2"
      ]
     },
     "execution_count": 12,
     "metadata": {},
     "output_type": "execute_result"
    }
   ],
   "source": [
    "calculator.sub(1,3)"
   ]
  },
  {
   "cell_type": "code",
   "execution_count": 13,
   "id": "cadc8352-1b52-4b32-8a0f-6077ab1eb781",
   "metadata": {},
   "outputs": [
    {
     "data": {
      "text/plain": [
       "3"
      ]
     },
     "execution_count": 13,
     "metadata": {},
     "output_type": "execute_result"
    }
   ],
   "source": [
    "calculator.mul(1,3)"
   ]
  },
  {
   "cell_type": "code",
   "execution_count": 16,
   "id": "2edc1e31-08aa-47f0-a90e-37f6364af60c",
   "metadata": {},
   "outputs": [
    {
     "name": "stdin",
     "output_type": "stream",
     "text": [
      "Enter the BMI Index: 34.1\n"
     ]
    },
    {
     "name": "stdout",
     "output_type": "stream",
     "text": [
      "Obese\n"
     ]
    }
   ],
   "source": [
    "multifunction.bmi()"
   ]
  },
  {
   "cell_type": "code",
   "execution_count": 17,
   "id": "948eb9f3-2d43-4218-872a-0c7f0d2b927f",
   "metadata": {},
   "outputs": [
    {
     "name": "stdin",
     "output_type": "stream",
     "text": [
      "Enter the number:  11\n"
     ]
    },
    {
     "name": "stdout",
     "output_type": "stream",
     "text": [
      "11  is Odd number\n"
     ]
    }
   ],
   "source": [
    "multifunction.oddeven()"
   ]
  },
  {
   "cell_type": "code",
   "execution_count": 18,
   "id": "dfd8b2c0-0e59-4de5-a6b3-fd03cb868892",
   "metadata": {},
   "outputs": [
    {
     "name": "stdin",
     "output_type": "stream",
     "text": [
      "Your Gender : Male\n",
      "Your Age : 20\n"
     ]
    },
    {
     "name": "stdout",
     "output_type": "stream",
     "text": [
      "NOT ELIGIBLE\n"
     ]
    }
   ],
   "source": [
    "multifunction.Elegible()"
   ]
  },
  {
   "cell_type": "code",
   "execution_count": 19,
   "id": "a88b3ad0-0732-4f0a-9b16-6ffb920f4c69",
   "metadata": {},
   "outputs": [
    {
     "name": "stdout",
     "output_type": "stream",
     "text": [
      "Machine Learning\n",
      "Neural Networks\n",
      "Vision\n",
      "Robotics\n",
      "Speech Processing\n",
      "Natural Language Processing\n"
     ]
    }
   ],
   "source": [
    "multifunction.Subfields()"
   ]
  },
  {
   "cell_type": "code",
   "execution_count": 20,
   "id": "35c66dbe-bad7-4013-9bd0-8cd0be9ac983",
   "metadata": {},
   "outputs": [
    {
     "name": "stdin",
     "output_type": "stream",
     "text": [
      "Subject1=  98\n",
      "Subject2=  87\n",
      "Subject3=  95\n",
      "Subject4=  95\n",
      "Subject5=  93\n"
     ]
    },
    {
     "name": "stdout",
     "output_type": "stream",
     "text": [
      "Total :  468\n",
      "Percentage :  93.6\n"
     ]
    }
   ],
   "source": [
    "multifunction.percentage()"
   ]
  },
  {
   "cell_type": "code",
   "execution_count": null,
   "id": "e7ca5cda-efc9-4fad-bd3e-677405983817",
   "metadata": {},
   "outputs": [],
   "source": []
  }
 ],
 "metadata": {
  "kernelspec": {
   "display_name": "Python 3 (ipykernel)",
   "language": "python",
   "name": "python3"
  },
  "language_info": {
   "codemirror_mode": {
    "name": "ipython",
    "version": 3
   },
   "file_extension": ".py",
   "mimetype": "text/x-python",
   "name": "python",
   "nbconvert_exporter": "python",
   "pygments_lexer": "ipython3",
   "version": "3.13.5"
  }
 },
 "nbformat": 4,
 "nbformat_minor": 5
}

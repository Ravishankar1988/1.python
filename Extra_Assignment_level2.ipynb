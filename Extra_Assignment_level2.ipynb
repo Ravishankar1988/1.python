{
 "cells": [
  {
   "cell_type": "code",
   "execution_count": 1,
   "id": "08b834e0-3625-4ccd-b0cb-2d09fc2306fb",
   "metadata": {},
   "outputs": [
    {
     "name": "stdout",
     "output_type": "stream",
     "text": [
      "0\n",
      "1\n",
      "2\n",
      "3\n",
      "4\n",
      "5\n",
      "6\n",
      "7\n",
      "8\n",
      "9\n",
      "10\n",
      "11\n",
      "12\n",
      "13\n",
      "14\n",
      "15\n",
      "16\n",
      "17\n",
      "18\n",
      "19\n"
     ]
    }
   ],
   "source": [
    "for i in range(0,20):\n",
    "    print(i)"
   ]
  },
  {
   "cell_type": "code",
   "execution_count": 4,
   "id": "18887b70-c146-4111-b814-793085336b73",
   "metadata": {},
   "outputs": [
    {
     "name": "stdout",
     "output_type": "stream",
     "text": [
      "10 11 12 13 14 15 16 17 18 19 "
     ]
    }
   ],
   "source": [
    "for i in range(10, 20):\n",
    "    print(i, end=\" \")"
   ]
  },
  {
   "cell_type": "code",
   "execution_count": 6,
   "id": "8ee984ca-7378-4380-8b97-da9ad79e9f10",
   "metadata": {},
   "outputs": [
    {
     "name": "stdout",
     "output_type": "stream",
     "text": [
      "Number of item in the List2: 7\n"
     ]
    }
   ],
   "source": [
    "list2 = [10, 20, 14, 55, 43, 87, 76]\n",
    "print(\"Number of item in the List2:\",len(list2))"
   ]
  },
  {
   "cell_type": "code",
   "execution_count": 13,
   "id": "e61cea9e-2951-4ce1-9f12-f37d6f677e01",
   "metadata": {},
   "outputs": [
    {
     "name": "stdout",
     "output_type": "stream",
     "text": [
      "Artificial Intelligence\n",
      "A\n",
      "r\n",
      "t\n",
      "i\n",
      "f\n",
      "i\n",
      "c\n",
      "i\n",
      "a\n",
      "l\n",
      " \n",
      "I\n",
      "n\n",
      "t\n",
      "e\n",
      "l\n",
      "l\n",
      "i\n",
      "g\n",
      "e\n",
      "n\n",
      "c\n",
      "e\n"
     ]
    }
   ],
   "source": [
    "text = \"Artificial Intelligence\"\n",
    "print(text)\n",
    "for ch in text:\n",
    "    print(ch)"
   ]
  },
  {
   "cell_type": "code",
   "execution_count": 16,
   "id": "4534014c-9ee6-4b04-ade5-c039f2d145ae",
   "metadata": {},
   "outputs": [
    {
     "name": "stdout",
     "output_type": "stream",
     "text": [
      "\n",
      "-Your Name- \n",
      "-Your Age- \n",
      "-Your Profession- \n"
     ]
    }
   ],
   "source": [
    "print(\"\"\"\n",
    "-Your Name- \n",
    "-Your Age- \n",
    "-Your Profession- \"\"\")"
   ]
  },
  {
   "cell_type": "code",
   "execution_count": 17,
   "id": "cd154a8b-6428-41e2-9a7a-0452ff55e0d1",
   "metadata": {},
   "outputs": [
    {
     "name": "stdout",
     "output_type": "stream",
     "text": [
      "(1, 'Welcome', 2, 'Hope')\n"
     ]
    }
   ],
   "source": [
    "tup = (1, 'Welcome', 2, 'Hope')\n",
    "print(tup)"
   ]
  },
  {
   "cell_type": "code",
   "execution_count": 19,
   "id": "927422ab-5f5e-4eff-a20b-73d2d2c08660",
   "metadata": {},
   "outputs": [
    {
     "name": "stdout",
     "output_type": "stream",
     "text": [
      "((0, 1, 2, 3), ('python', 'HOPE'))\n"
     ]
    }
   ],
   "source": [
    "Tuple1 = (0, 1, 2, 3)\n",
    "Tuple2 =  ('python', 'HOPE')\n",
    "Tup = Tuple1, Tuple2\n",
    "print(Tup)"
   ]
  },
  {
   "cell_type": "code",
   "execution_count": 20,
   "id": "519e5e30-4911-41c2-9ae0-2ad109f68dcc",
   "metadata": {},
   "outputs": [
    {
     "name": "stdout",
     "output_type": "stream",
     "text": [
      "19  is odd\n",
      "25  is odd\n",
      "1  is odd\n"
     ]
    }
   ],
   "source": [
    "Num = (20,10,16,19,25,1,276,188)\n",
    "for i in Num:\n",
    "    if (i%2 ==1):\n",
    "        print(i, \" is odd\")"
   ]
  },
  {
   "cell_type": "code",
   "execution_count": 21,
   "id": "4431624b-39f1-449a-82c9-dbc9ff4f81c6",
   "metadata": {},
   "outputs": [
    {
     "name": "stdout",
     "output_type": "stream",
     "text": [
      "20  is even\n",
      "10  is even\n",
      "16  is even\n",
      "276  is even\n",
      "188  is even\n"
     ]
    }
   ],
   "source": [
    "Num = (20,10,16,19,25,1,276,188)\n",
    "for i in Num:\n",
    "    if (i%2 ==0):\n",
    "        print(i, \" is even\")"
   ]
  },
  {
   "cell_type": "code",
   "execution_count": null,
   "id": "f9cec253-524e-4446-a8df-0429389d605c",
   "metadata": {},
   "outputs": [],
   "source": []
  }
 ],
 "metadata": {
  "kernelspec": {
   "display_name": "Python 3 (ipykernel)",
   "language": "python",
   "name": "python3"
  },
  "language_info": {
   "codemirror_mode": {
    "name": "ipython",
    "version": 3
   },
   "file_extension": ".py",
   "mimetype": "text/x-python",
   "name": "python",
   "nbconvert_exporter": "python",
   "pygments_lexer": "ipython3",
   "version": "3.13.5"
  }
 },
 "nbformat": 4,
 "nbformat_minor": 5
}

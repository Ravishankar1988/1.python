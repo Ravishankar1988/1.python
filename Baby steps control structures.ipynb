{
 "cells": [
  {
   "cell_type": "code",
   "execution_count": 2,
   "id": "07111fa9-b639-4e16-a3e0-9ec7cd0f2ff2",
   "metadata": {},
   "outputs": [
    {
     "name": "stdout",
     "output_type": "stream",
     "text": [
      "Welcome to Assignment-1\n"
     ]
    }
   ],
   "source": [
    "print(\"Welcome to Assignment-1\")"
   ]
  },
  {
   "cell_type": "code",
   "execution_count": 5,
   "id": "51ae7ae7-58e2-48aa-82b7-b88e8be004f7",
   "metadata": {},
   "outputs": [
    {
     "name": "stdin",
     "output_type": "stream",
     "text": [
      "Enter the Num1 value: 10\n",
      "Enter the Num2 value: 30\n"
     ]
    },
    {
     "name": "stdout",
     "output_type": "stream",
     "text": [
      "Num1= 10\n",
      "Num2= 30\n",
      "Add= 40\n"
     ]
    }
   ],
   "source": [
    "Num1 = int(input(\"Enter the Num1 value:\"))\n",
    "Num2 = int(input(\"Enter the Num2 value:\"))\n",
    "Add = Num1+Num2\n",
    "print(\"Num1=\",Num1)\n",
    "print(\"Num2=\",Num2)\n",
    "print(\"Add=\",Add)"
   ]
  },
  {
   "cell_type": "code",
   "execution_count": 9,
   "id": "7f8deacf-087b-415c-8295-e51060d6d0a4",
   "metadata": {},
   "outputs": [
    {
     "name": "stdin",
     "output_type": "stream",
     "text": [
      "Enter the BMI Index: 34\n"
     ]
    },
    {
     "name": "stdout",
     "output_type": "stream",
     "text": [
      "Obese\n"
     ]
    }
   ],
   "source": [
    "bmi = float(input(\"Enter the BMI Index:\"))\n",
    "if (bmi<18.5):\n",
    "    print(\"Under Weight\")\n",
    "\n",
    "elif (bmi<=24.9):\n",
    "    print(\"Healthy Weight\")\n",
    "\n",
    "elif (bmi<=29.9):\n",
    "    print(\"Over Weight\")\n",
    "\n",
    "elif (bmi<=34.9):\n",
    "    print(\"Obese\")\n",
    "\n",
    "elif (bmi<=39.9):\n",
    "    print(\"Severly Obese\")\n",
    "\n",
    "elif (bmi>=40):\n",
    "    print(\"Morbidly Obese\")"
   ]
  },
  {
   "cell_type": "code",
   "execution_count": null,
   "id": "c40cffed-cc64-4c02-976b-9f8e0cf383a4",
   "metadata": {},
   "outputs": [],
   "source": []
  }
 ],
 "metadata": {
  "kernelspec": {
   "display_name": "Python 3 (ipykernel)",
   "language": "python",
   "name": "python3"
  },
  "language_info": {
   "codemirror_mode": {
    "name": "ipython",
    "version": 3
   },
   "file_extension": ".py",
   "mimetype": "text/x-python",
   "name": "python",
   "nbconvert_exporter": "python",
   "pygments_lexer": "ipython3",
   "version": "3.13.5"
  }
 },
 "nbformat": 4,
 "nbformat_minor": 5
}

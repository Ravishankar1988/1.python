{
 "cells": [
  {
   "cell_type": "code",
   "execution_count": 1,
   "id": "0094dff2-88da-418e-8de2-4dc4e606bf59",
   "metadata": {},
   "outputs": [
    {
     "name": "stdout",
     "output_type": "stream",
     "text": [
      "HOPE AI\n"
     ]
    }
   ],
   "source": [
    "print(\"HOPE AI\")"
   ]
  },
  {
   "cell_type": "code",
   "execution_count": 3,
   "id": "afd16f08-7c77-447e-bae3-64b87c9e6066",
   "metadata": {},
   "outputs": [
    {
     "name": "stdin",
     "output_type": "stream",
     "text": [
      "Enter your institute name? :  HOPE AI\n"
     ]
    },
    {
     "name": "stdout",
     "output_type": "stream",
     "text": [
      "Enter your institute name? :  HOPE AI\n"
     ]
    }
   ],
   "source": [
    "name = input(\"Enter your institute name? : \")\n",
    "print(\"Enter your institute name? : \",name)"
   ]
  },
  {
   "cell_type": "code",
   "execution_count": 5,
   "id": "4b15a86b-9cf4-4fe8-97e1-52a3dccbe811",
   "metadata": {},
   "outputs": [
    {
     "name": "stdin",
     "output_type": "stream",
     "text": [
      "Enter your name:  Raj\n",
      "Enter your age:  15\n",
      "Enter your school name:  Guru school\n",
      "Enter your drgree:  B.E CSE\n"
     ]
    },
    {
     "name": "stdout",
     "output_type": "stream",
     "text": [
      "Enter your name:  Raj\n",
      "Enter your age:  15\n",
      "Enter your school name:  Guru school\n",
      "Enter your drgree:  B.E CSE\n"
     ]
    }
   ],
   "source": [
    "s_name = input(\"Enter your name: \")\n",
    "age = int(input(\"Enter your age: \"))\n",
    "school = input(\"Enter your school name: \")\n",
    "degree = input(\"Enter your drgree: \")\n",
    "print(\"Enter your name: \",s_name)\n",
    "print(\"Enter your age: \",age)\n",
    "print(\"Enter your school name: \",school)\n",
    "print(\"Enter your drgree: \",degree)"
   ]
  },
  {
   "cell_type": "code",
   "execution_count": null,
   "id": "85fd4cd7-32c1-41fc-a487-a3fe94a5d379",
   "metadata": {},
   "outputs": [],
   "source": [
    "a = int(input(\"Enter the value of a=\"))\n",
    "b = int(input(\"Enter the value of b=\"))\n",
    "add = a+b\n",
    "print(\"a=\",a)\n",
    "print(\"b=\",b)\n",
    "print(\"add = \",add)"
   ]
  },
  {
   "cell_type": "code",
   "execution_count": 14,
   "id": "15f244bb-78a7-4812-858f-94d8e3cbf8e4",
   "metadata": {},
   "outputs": [
    {
     "name": "stdin",
     "output_type": "stream",
     "text": [
      "Enter the value of a= 43\n",
      "Enter the value of b= 34\n"
     ]
    },
    {
     "name": "stdout",
     "output_type": "stream",
     "text": [
      "a= 43\n",
      "b= 34\n",
      "sub =  9\n"
     ]
    }
   ],
   "source": [
    "a = int(input(\"Enter the value of a=\"))\n",
    "b = int(input(\"Enter the value of b=\"))\n",
    "add = a-b\n",
    "print(\"a=\",a)\n",
    "print(\"b=\",b)\n",
    "print(\"sub = \",add)"
   ]
  },
  {
   "cell_type": "code",
   "execution_count": 13,
   "id": "32ee2d1a-3d1e-40b3-b56b-dda1080baf68",
   "metadata": {},
   "outputs": [
    {
     "name": "stdin",
     "output_type": "stream",
     "text": [
      "Enter the value of a= 63\n",
      "Enter the value of b= 97\n"
     ]
    },
    {
     "name": "stdout",
     "output_type": "stream",
     "text": [
      "a= 63\n",
      "b= 97\n",
      "Mul =  6111\n"
     ]
    }
   ],
   "source": [
    "a = int(input(\"Enter the value of a=\"))\n",
    "b = int(input(\"Enter the value of b=\"))\n",
    "Mul = a*b\n",
    "print(\"a=\",a)\n",
    "print(\"b=\",b)\n",
    "print(\"Mul = \",Mul)"
   ]
  },
  {
   "cell_type": "code",
   "execution_count": 15,
   "id": "68fb991c-1285-46f4-a89e-1a24e416df87",
   "metadata": {},
   "outputs": [
    {
     "name": "stdin",
     "output_type": "stream",
     "text": [
      "Enter the value of a= 76\n",
      "Enter the value of b= 31\n"
     ]
    },
    {
     "name": "stdout",
     "output_type": "stream",
     "text": [
      "a= 76\n",
      "b= 31\n",
      "Float Div =  2.4516129032258065\n"
     ]
    }
   ],
   "source": [
    "a = int(input(\"Enter the value of a=\"))\n",
    "b = int(input(\"Enter the value of b=\"))\n",
    "Mul = a/b\n",
    "print(\"a=\",a)\n",
    "print(\"b=\",b)\n",
    "print(\"Float Div = \",Mul)"
   ]
  },
  {
   "cell_type": "code",
   "execution_count": 16,
   "id": "9030324e-6c4d-476c-a48f-d7836e3a13df",
   "metadata": {},
   "outputs": [
    {
     "name": "stdin",
     "output_type": "stream",
     "text": [
      "Enter the value of a= 76\n",
      "Enter the value of b= 31\n"
     ]
    },
    {
     "name": "stdout",
     "output_type": "stream",
     "text": [
      "a= 76\n",
      "b= 31\n",
      "Floor Div =  2\n"
     ]
    }
   ],
   "source": [
    "a = int(input(\"Enter the value of a=\"))\n",
    "b = int(input(\"Enter the value of b=\"))\n",
    "Div = a//b\n",
    "print(\"a=\",a)\n",
    "print(\"b=\",b)\n",
    "print(\"Floor Div = \",Div)"
   ]
  },
  {
   "cell_type": "code",
   "execution_count": 17,
   "id": "0c21a298-a197-4572-a532-451163a892eb",
   "metadata": {},
   "outputs": [
    {
     "name": "stdin",
     "output_type": "stream",
     "text": [
      "Enter the value of a= 76\n",
      "Enter the value of b= 31\n"
     ]
    },
    {
     "name": "stdout",
     "output_type": "stream",
     "text": [
      "a= 76\n",
      "b= 31\n",
      "Modulo =  14\n"
     ]
    }
   ],
   "source": [
    "a = int(input(\"Enter the value of a=\"))\n",
    "b = int(input(\"Enter the value of b=\"))\n",
    "Mod = a%b\n",
    "print(\"a=\",a)\n",
    "print(\"b=\",b)\n",
    "print(\"Modulo = \",Mod)"
   ]
  },
  {
   "cell_type": "code",
   "execution_count": 18,
   "id": "657b8c3b-d0eb-4500-ac48-64341d1ab03f",
   "metadata": {},
   "outputs": [
    {
     "name": "stdin",
     "output_type": "stream",
     "text": [
      "Enter the value of a= 4\n",
      "Enter the value of b= 4\n"
     ]
    },
    {
     "name": "stdout",
     "output_type": "stream",
     "text": [
      "a= 4\n",
      "b= 4\n",
      "Power =  256\n"
     ]
    }
   ],
   "source": [
    "a = int(input(\"Enter the value of a=\"))\n",
    "b = int(input(\"Enter the value of b=\"))\n",
    "power = pow(a,b)\n",
    "print(\"a=\",a)\n",
    "print(\"b=\",b)\n",
    "print(\"Power = \",power)"
   ]
  },
  {
   "cell_type": "code",
   "execution_count": null,
   "id": "a44fc40f-9873-4dd8-8c85-f5413817c953",
   "metadata": {},
   "outputs": [],
   "source": []
  }
 ],
 "metadata": {
  "kernelspec": {
   "display_name": "Python 3 (ipykernel)",
   "language": "python",
   "name": "python3"
  },
  "language_info": {
   "codemirror_mode": {
    "name": "ipython",
    "version": 3
   },
   "file_extension": ".py",
   "mimetype": "text/x-python",
   "name": "python",
   "nbconvert_exporter": "python",
   "pygments_lexer": "ipython3",
   "version": "3.13.5"
  }
 },
 "nbformat": 4,
 "nbformat_minor": 5
}

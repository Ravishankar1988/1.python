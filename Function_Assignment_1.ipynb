{
 "cells": [
  {
   "cell_type": "code",
   "execution_count": 5,
   "id": "c21d3176-d3d1-4c6d-a139-85595faee40f",
   "metadata": {},
   "outputs": [],
   "source": [
    "class SubfieldsInAI():\n",
    "    def Subfields():\n",
    "        lists = ['Machine Learning', 'Neural Networks','Vision', 'Robotics','Speech Processing', 'Natural Language Processing' ]\n",
    "        for i in lists:\n",
    "            print(i)"
   ]
  },
  {
   "cell_type": "code",
   "execution_count": 7,
   "id": "343bde3e-a192-4845-a773-0a00712c7817",
   "metadata": {},
   "outputs": [
    {
     "name": "stdout",
     "output_type": "stream",
     "text": [
      "Machine Learning\n",
      "Neural Networks\n",
      "Vision\n",
      "Robotics\n",
      "Speech Processing\n",
      "Natural Language Processing\n"
     ]
    }
   ],
   "source": [
    "SubfieldsInAI.Subfields()"
   ]
  },
  {
   "cell_type": "code",
   "execution_count": 12,
   "id": "bc611bc1-49a7-43fb-9e39-9194bda6d294",
   "metadata": {},
   "outputs": [],
   "source": [
    "class OddEven():\n",
    "    def OddEven():\n",
    "        Num = int(input(\"Enter the number: \"))\n",
    "        if (Num%2 ==1):\n",
    "            print(Num, \" is Odd number\")\n",
    "            \n",
    "        else:\n",
    "            print(Num, \" is Even number\")\n",
    "        "
   ]
  },
  {
   "cell_type": "code",
   "execution_count": 13,
   "id": "b1d20163-a65f-4545-b12d-2193416a76a7",
   "metadata": {},
   "outputs": [
    {
     "name": "stdin",
     "output_type": "stream",
     "text": [
      "Enter the number:  52452\n"
     ]
    },
    {
     "name": "stdout",
     "output_type": "stream",
     "text": [
      "52452  is Even number\n"
     ]
    }
   ],
   "source": [
    "OddEven.OddEven()"
   ]
  },
  {
   "cell_type": "code",
   "execution_count": 22,
   "id": "a33e1a28-2e45-4865-ac4c-c6cf178f26ec",
   "metadata": {},
   "outputs": [],
   "source": [
    "class ElegiblityForMarriage():\n",
    "    def Elegible():\n",
    "        Gender = input(\"Your Gender :\")\n",
    "        Age = int(input(\"Your Age :\"))\n",
    "        if (Gender == 'Male') and (Age >= 21):\n",
    "            print(\"ELIGIBLE\")\n",
    "        elif (Gender == 'Female') and (Age >= 18):\n",
    "            print(\"ELIGIBLE\")\n",
    "        else:\n",
    "            print(\"NOT ELIGIBLE\")"
   ]
  },
  {
   "cell_type": "code",
   "execution_count": 23,
   "id": "0422472b-5b6b-4500-bfdd-fd4cf186fff5",
   "metadata": {},
   "outputs": [
    {
     "name": "stdin",
     "output_type": "stream",
     "text": [
      "Your Gender : Male\n",
      "Your Age : 20\n"
     ]
    },
    {
     "name": "stdout",
     "output_type": "stream",
     "text": [
      "NOT ELIGIBLE\n"
     ]
    }
   ],
   "source": [
    "ElegiblityForMarriage.Elegible()"
   ]
  },
  {
   "cell_type": "code",
   "execution_count": 28,
   "id": "0422b78c-0bcd-40ca-b8f3-863205d8c056",
   "metadata": {},
   "outputs": [],
   "source": [
    "class FindPercent():\n",
    "    def percentage():\n",
    "        Subject1 = int(input(\"Subject1= \"))\n",
    "        Subject2 = int(input(\"Subject2= \"))\n",
    "        Subject3 = int(input(\"Subject3= \"))\n",
    "        Subject4 = int(input(\"Subject4= \"))\n",
    "        Subject5 = int(input(\"Subject5= \"))\n",
    "        Total = (Subject1+Subject2+Subject3+Subject4+Subject5)\n",
    "        print(\"Total : \", Total)\n",
    "        Percentage = Total/5\n",
    "        print(\"Percentage : \", Percentage)\n",
    "        "
   ]
  },
  {
   "cell_type": "code",
   "execution_count": 27,
   "id": "29c08046-181f-4811-ad52-6170c5b1a54b",
   "metadata": {},
   "outputs": [
    {
     "name": "stdin",
     "output_type": "stream",
     "text": [
      "Subject1=  98\n",
      "Subject2=  87\n",
      "Subject3=  95\n",
      "Subject4=  95\n",
      "Subject5=  93\n"
     ]
    },
    {
     "name": "stdout",
     "output_type": "stream",
     "text": [
      "Total :  468\n",
      "Percentage :  93.6\n"
     ]
    }
   ],
   "source": [
    "FindPercent.percentage()"
   ]
  },
  {
   "cell_type": "code",
   "execution_count": 31,
   "id": "1c60c134-0a90-4e71-a47f-33f9c71a59e4",
   "metadata": {},
   "outputs": [],
   "source": [
    "class triangle():\n",
    "    def area():\n",
    "        Height = int(input(\"Height:\"))\n",
    "        Breadth = int(input(\"Breadth:\"))\n",
    "        print(\"Area formula: (Height*Breadth)/2\")\n",
    "        output = (Height*Breadth)/2\n",
    "        print(\"Area of Triangle:  \",output)      \n",
    "\n",
    "    def perimeter():\n",
    "        Height1 = int(input(\"Height1:\"))\n",
    "        Height2 = int(input(\"Height2:\"))\n",
    "        Breadth = int(input(\"Breadth:\"))\n",
    "        print(\"Perimeter formula: Height1+Height2+Breadth\")\n",
    "        output = Height1+Height2+Breadth\n",
    "        print(\"Perimeter of Triangle:  \",output) \n",
    "        "
   ]
  },
  {
   "cell_type": "code",
   "execution_count": 30,
   "id": "3a0ab5b8-9583-4249-9b62-11b92599b598",
   "metadata": {},
   "outputs": [
    {
     "name": "stdin",
     "output_type": "stream",
     "text": [
      "Height: 32\n",
      "Breadth: 34\n"
     ]
    },
    {
     "name": "stdout",
     "output_type": "stream",
     "text": [
      "Area formula: (Height*Breadth)/2\n",
      "Area of Triangle:   544.0\n"
     ]
    }
   ],
   "source": [
    "triangle.area()"
   ]
  },
  {
   "cell_type": "code",
   "execution_count": 32,
   "id": "6687eae2-c506-4c08-ab59-bf7d9af71b34",
   "metadata": {},
   "outputs": [
    {
     "name": "stdin",
     "output_type": "stream",
     "text": [
      "Height1: 2\n",
      "Height2: 4\n",
      "Breadth: 4\n"
     ]
    },
    {
     "name": "stdout",
     "output_type": "stream",
     "text": [
      "Perimeter formula: Height1+Height2+Breadth\n",
      "Perimeter of Triangle:   10\n"
     ]
    }
   ],
   "source": [
    "triangle.perimeter()"
   ]
  },
  {
   "cell_type": "code",
   "execution_count": null,
   "id": "30f86141-3418-4fa8-9b4e-a34a5e0ce9f7",
   "metadata": {},
   "outputs": [],
   "source": []
  }
 ],
 "metadata": {
  "kernelspec": {
   "display_name": "Python 3 (ipykernel)",
   "language": "python",
   "name": "python3"
  },
  "language_info": {
   "codemirror_mode": {
    "name": "ipython",
    "version": 3
   },
   "file_extension": ".py",
   "mimetype": "text/x-python",
   "name": "python",
   "nbconvert_exporter": "python",
   "pygments_lexer": "ipython3",
   "version": "3.13.5"
  }
 },
 "nbformat": 4,
 "nbformat_minor": 5
}
